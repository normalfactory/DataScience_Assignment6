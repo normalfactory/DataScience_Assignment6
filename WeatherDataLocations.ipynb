{
 "cells": [
  {
   "cell_type": "markdown",
   "metadata": {},
   "source": [
    "### Display of Temperature by latitude on map  \n",
    "March 3, 2019  \n",
    "Scott McEachern"
   ]
  },
  {
   "cell_type": "code",
   "execution_count": 1,
   "metadata": {},
   "outputs": [],
   "source": [
    "#-- Import Libraries\n",
    "import pandas as pd\n",
    "import os\n",
    "import gmaps\n",
    "from secrets import gkey"
   ]
  },
  {
   "cell_type": "code",
   "execution_count": 2,
   "metadata": {},
   "outputs": [
    {
     "data": {
      "text/html": [
       "<div>\n",
       "<style scoped>\n",
       "    .dataframe tbody tr th:only-of-type {\n",
       "        vertical-align: middle;\n",
       "    }\n",
       "\n",
       "    .dataframe tbody tr th {\n",
       "        vertical-align: top;\n",
       "    }\n",
       "\n",
       "    .dataframe thead th {\n",
       "        text-align: right;\n",
       "    }\n",
       "</style>\n",
       "<table border=\"1\" class=\"dataframe\">\n",
       "  <thead>\n",
       "    <tr style=\"text-align: right;\">\n",
       "      <th></th>\n",
       "      <th>City</th>\n",
       "      <th>Country</th>\n",
       "      <th>Latitude</th>\n",
       "      <th>Longitude</th>\n",
       "      <th>Temperature</th>\n",
       "      <th>WindSpeed</th>\n",
       "      <th>Humidity</th>\n",
       "      <th>Cloudiness</th>\n",
       "    </tr>\n",
       "  </thead>\n",
       "  <tbody>\n",
       "    <tr>\n",
       "      <th>0</th>\n",
       "      <td>Tuktoyaktuk</td>\n",
       "      <td>CA</td>\n",
       "      <td>69.44</td>\n",
       "      <td>-133.03</td>\n",
       "      <td>15.80</td>\n",
       "      <td>20.80</td>\n",
       "      <td>78</td>\n",
       "      <td>90</td>\n",
       "    </tr>\n",
       "    <tr>\n",
       "      <th>1</th>\n",
       "      <td>Saint-Francois</td>\n",
       "      <td>FR</td>\n",
       "      <td>46.42</td>\n",
       "      <td>3.91</td>\n",
       "      <td>53.60</td>\n",
       "      <td>9.17</td>\n",
       "      <td>54</td>\n",
       "      <td>0</td>\n",
       "    </tr>\n",
       "    <tr>\n",
       "      <th>2</th>\n",
       "      <td>Hobart</td>\n",
       "      <td>AU</td>\n",
       "      <td>-42.88</td>\n",
       "      <td>147.33</td>\n",
       "      <td>62.01</td>\n",
       "      <td>8.05</td>\n",
       "      <td>71</td>\n",
       "      <td>0</td>\n",
       "    </tr>\n",
       "    <tr>\n",
       "      <th>3</th>\n",
       "      <td>Albany</td>\n",
       "      <td>US</td>\n",
       "      <td>42.65</td>\n",
       "      <td>-73.75</td>\n",
       "      <td>39.00</td>\n",
       "      <td>3.40</td>\n",
       "      <td>40</td>\n",
       "      <td>90</td>\n",
       "    </tr>\n",
       "    <tr>\n",
       "      <th>4</th>\n",
       "      <td>Khatanga</td>\n",
       "      <td>RU</td>\n",
       "      <td>71.98</td>\n",
       "      <td>102.47</td>\n",
       "      <td>-0.10</td>\n",
       "      <td>18.39</td>\n",
       "      <td>75</td>\n",
       "      <td>44</td>\n",
       "    </tr>\n",
       "  </tbody>\n",
       "</table>\n",
       "</div>"
      ],
      "text/plain": [
       "             City Country  Latitude  Longitude  Temperature  WindSpeed  \\\n",
       "0     Tuktoyaktuk      CA     69.44    -133.03        15.80      20.80   \n",
       "1  Saint-Francois      FR     46.42       3.91        53.60       9.17   \n",
       "2          Hobart      AU    -42.88     147.33        62.01       8.05   \n",
       "3          Albany      US     42.65     -73.75        39.00       3.40   \n",
       "4        Khatanga      RU     71.98     102.47        -0.10      18.39   \n",
       "\n",
       "   Humidity  Cloudiness  \n",
       "0        78          90  \n",
       "1        54           0  \n",
       "2        71           0  \n",
       "3        40          90  \n",
       "4        75          44  "
      ]
     },
     "execution_count": 2,
     "metadata": {},
     "output_type": "execute_result"
    }
   ],
   "source": [
    "#-- Get Dataset\n",
    "weatherDataPath = os.path.join(\".\", \"Output\", \"WeatherData.cvs\")\n",
    "\n",
    "weather_df = pd.read_csv(weatherDataPath)\n",
    "\n",
    "weather_df.head()"
   ]
  },
  {
   "cell_type": "code",
   "execution_count": 3,
   "metadata": {},
   "outputs": [],
   "source": [
    "#-- Prepare Data For Map\n",
    "\n",
    "#- Create Temperature Categories\n",
    "temperatureBins = [-50, -12, 12, 32, 52, 72, 120]\n",
    "temperatureLabelBins = ['Extreme Cold', 'Very Cold', 'Cold', 'Ok', 'Warm', 'Hot']\n",
    "temperatureColors = ['darkblue', 'darkturquoise', 'paleturquoise', 'beige', 'bisque', 'red']\n",
    "\n",
    "weather_df['TempCategory'] = pd.cut(weather_df['Temperature'], temperatureBins, labels=temperatureLabelBins)\n",
    "\n",
    "#- Group by Category\n",
    "weatherTempCategory_dfGrouped = weather_df.groupby('TempCategory')"
   ]
  },
  {
   "cell_type": "code",
   "execution_count": 4,
   "metadata": {},
   "outputs": [
    {
     "data": {
      "application/vnd.jupyter.widget-view+json": {
       "model_id": "75f3965bbdd74eaeafe18ba286fd77be",
       "version_major": 2,
       "version_minor": 0
      },
      "text/plain": [
       "Figure(layout=FigureLayout(border='2px solid black', height='500px', padding='1px', width='800px'))"
      ]
     },
     "metadata": {},
     "output_type": "display_data"
    }
   ],
   "source": [
    "#-- Plot Map\n",
    "temperatureColors = ['#3014aa', '#67aedb','#84e7ed','#5ce0b4','#eab033','#e84619']\n",
    "\n",
    "#- Set License\n",
    "gmaps.configure(api_key=gkey)\n",
    "\n",
    "\n",
    "#- Prepare Map\n",
    "figureLayout = {\n",
    "    'width': '800px',\n",
    "    'height': '500px',\n",
    "    'border' : '2px solid black',\n",
    "    'padding' : '1px'\n",
    "}\n",
    "\n",
    "fig = gmaps.figure(map_type='SATELLITE', layout=figureLayout)\n",
    "\n",
    "\n",
    "#- Create Marker Layer\n",
    "counter = 0\n",
    "\n",
    "for tempGroup, weatherGroup_df in weatherTempCategory_dfGrouped:\n",
    "    \n",
    "    location_df = weatherGroup_df[['Latitude', 'Longitude']]\n",
    "    \n",
    "    weatherSymbolLayer = gmaps.symbol_layer(location_df, \n",
    "                                            fill_color=temperatureColors[counter],\n",
    "                                            stroke_color=temperatureColors[counter],\n",
    "                                           scale= 3)\n",
    "    counter +=1\n",
    "    \n",
    "    fig.add_layer(weatherSymbolLayer)\n",
    "\n",
    "\n",
    "#- Show Map\n",
    "fig"
   ]
  },
  {
   "cell_type": "code",
   "execution_count": null,
   "metadata": {},
   "outputs": [],
   "source": []
  }
 ],
 "metadata": {
  "kernelspec": {
   "display_name": "Python 3",
   "language": "python",
   "name": "python3"
  },
  "language_info": {
   "codemirror_mode": {
    "name": "ipython",
    "version": 3
   },
   "file_extension": ".py",
   "mimetype": "text/x-python",
   "name": "python",
   "nbconvert_exporter": "python",
   "pygments_lexer": "ipython3",
   "version": "3.7.1"
  }
 },
 "nbformat": 4,
 "nbformat_minor": 2
}
