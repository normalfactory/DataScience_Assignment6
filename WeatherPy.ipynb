{
 "cells": [
  {
   "cell_type": "markdown",
   "metadata": {},
   "source": [
    "## WeatherPy: Visualizing weather based on Latitude  \n",
    "March 2, 2019  \n",
    "Scott McEachern"
   ]
  },
  {
   "cell_type": "code",
   "execution_count": 4,
   "metadata": {},
   "outputs": [],
   "source": [
    "#-- Import Libraries\n",
    "%matplotlib inline\n",
    "\n",
    "import matplotlib.pyplot as plt\n",
    "import pandas as pd\n",
    "import numpy as np\n",
    "import os\n",
    "import requests\n",
    "\n",
    "# OpenWeatherMap API Key located in secrets.py; .gitignore prevents secrets.py from push to GitHub\n",
    "from secrets import api_key\n",
    "\n",
    "# citipy library to lookup city name based on lat/long; require installation of dependencies \n",
    "#  pip install citipy\n",
    "from citipy import citipy"
   ]
  },
  {
   "cell_type": "code",
   "execution_count": 25,
   "metadata": {},
   "outputs": [],
   "source": [
    "#-- Configuration\n",
    "\n",
    "# Number of random locations to calculate\n",
    "numRandomLocations = 80\n",
    "\n",
    "# Total number of cities to get weather information from API\n",
    "numCities = 50\n",
    "\n",
    "\n"
   ]
  },
  {
   "cell_type": "code",
   "execution_count": null,
   "metadata": {},
   "outputs": [],
   "source": [
    "weatherData = {\n",
    "    'City': [],\n",
    "    'Country': [],\n",
    "    'Latitude' : [],\n",
    "    'Longitude' : [],\n",
    "    'Temperature' : [],\n",
    "    'WindSpeed' : [],\n",
    "    'Humidity' : [],\n",
    "    }"
   ]
  },
  {
   "cell_type": "code",
   "execution_count": 28,
   "metadata": {},
   "outputs": [
    {
     "name": "stdout",
     "output_type": "stream",
     "text": [
      "50\n"
     ]
    },
    {
     "data": {
      "text/plain": [
       "['ixtapa',\n",
       " 'tuktoyaktuk',\n",
       " 'port macquarie',\n",
       " 'mataura',\n",
       " 'busselton',\n",
       " 'faanui',\n",
       " 'port hardy',\n",
       " 'mys shmidta',\n",
       " 'nizhneyansk',\n",
       " 'cucer',\n",
       " 'prince rupert',\n",
       " 'hithadhoo',\n",
       " 'illoqqortoormiut',\n",
       " 'saint george',\n",
       " 'rikitea',\n",
       " 'vostok',\n",
       " 'kupang',\n",
       " 'qaanaaq',\n",
       " 'ulladulla',\n",
       " 'ondal',\n",
       " 'kaitangata',\n",
       " 'punta arenas',\n",
       " 'mar del plata',\n",
       " 'taolanaro',\n",
       " 'pouembout',\n",
       " 'ushuaia',\n",
       " 'nouadhibou',\n",
       " 'tsihombe',\n",
       " 'price',\n",
       " 'castro',\n",
       " 'port elizabeth',\n",
       " 'kodiak',\n",
       " 'albany',\n",
       " 'jamestown',\n",
       " 'simao',\n",
       " 'vila franca do campo',\n",
       " 'lorengau',\n",
       " 'kruisfontein',\n",
       " 'haines junction',\n",
       " 'sao filipe',\n",
       " 'mahebourg',\n",
       " 'whitehorse',\n",
       " 'jaque',\n",
       " 'butaritari',\n",
       " 'karakendzha',\n",
       " 'villa maria',\n",
       " 'tiznit',\n",
       " 'micheweni',\n",
       " 'marquette',\n",
       " 'hermanus']"
      ]
     },
     "execution_count": 28,
     "metadata": {},
     "output_type": "execute_result"
    }
   ],
   "source": [
    "#-- Generate List of Cities\n",
    "\n",
    "#- Create Random Coordinates\n",
    "lats = np.random.uniform(low=-90.000, high=90.000, size=numRandomLocations)\n",
    "lngs = np.random.uniform(low=-180.000, high=180.000, size=numRandomLocations)\n",
    "\n",
    "\n",
    "#- Merge into Zip\n",
    "lat_lngs = zip(lats, lngs)\n",
    "\n",
    "\n",
    "#- Find City Name\n",
    "cityNames = []\n",
    "\n",
    "for lat_lng in lat_lngs:\n",
    "    \n",
    "    # Get nearest city\n",
    "    cityName = citipy.nearest_city(lat_lng[0], lat_lng[1]).city_name\n",
    "    \n",
    "    \n",
    "    # Determine new city name\n",
    "    if (cityName not in cityNames):\n",
    "        cityNames.append(cityName)\n",
    "\n",
    "        # Check if reached number of cities used with analysis\n",
    "        if (len(cityNames) == numCities):\n",
    "            break\n",
    "            \n",
    "print(len(cityNames))    \n",
    "cityNames    \n",
    "    "
   ]
  },
  {
   "cell_type": "code",
   "execution_count": 19,
   "metadata": {},
   "outputs": [
    {
     "data": {
      "text/plain": [
       "'port alfred'"
      ]
     },
     "execution_count": 19,
     "metadata": {},
     "output_type": "execute_result"
    }
   ],
   "source": [
    "city = citipy.nearest_city(-88, 55).city_name\n",
    "\n",
    "city"
   ]
  },
  {
   "cell_type": "code",
   "execution_count": null,
   "metadata": {},
   "outputs": [],
   "source": []
  }
 ],
 "metadata": {
  "kernelspec": {
   "display_name": "Python 3",
   "language": "python",
   "name": "python3"
  },
  "language_info": {
   "codemirror_mode": {
    "name": "ipython",
    "version": 3
   },
   "file_extension": ".py",
   "mimetype": "text/x-python",
   "name": "python",
   "nbconvert_exporter": "python",
   "pygments_lexer": "ipython3",
   "version": "3.7.1"
  }
 },
 "nbformat": 4,
 "nbformat_minor": 2
}
